{
  "nbformat": 4,
  "nbformat_minor": 0,
  "metadata": {
    "colab": {
      "name": "test.ipynb",
      "provenance": [],
      "authorship_tag": "ABX9TyOSzLDQACEC9UsIRrCWropX",
      "include_colab_link": true
    },
    "kernelspec": {
      "name": "python3",
      "display_name": "Python 3"
    },
    "language_info": {
      "name": "python"
    }
  },
  "cells": [
    {
      "cell_type": "markdown",
      "metadata": {
        "id": "view-in-github",
        "colab_type": "text"
      },
      "source": [
        "<a href=\"https://colab.research.google.com/github/kimjunhee8698/Python-Beginner/blob/main/test.ipynb\" target=\"_parent\"><img src=\"https://colab.research.google.com/assets/colab-badge.svg\" alt=\"Open In Colab\"/></a>"
      ]
    },
    {
      "cell_type": "code",
      "execution_count": null,
      "metadata": {
        "id": "7imrRXFW8YaT"
      },
      "outputs": [],
      "source": [
        "import this"
      ]
    },
    {
      "cell_type": "code",
      "source": [
        ""
      ],
      "metadata": {
        "id": "QZw09cGA-sLd"
      },
      "execution_count": null,
      "outputs": []
    },
    {
      "cell_type": "markdown",
      "source": [
        "#H1\n",
        "##H2\n",
        "###H3\n",
        "####H4\n",
        "#####H5\n",
        "######H6\n",
        "H1 too\n",
        "===\n",
        "H2 too\n",
        "---\n"
      ],
      "metadata": {
        "id": "FJuRkYQJCsKf"
      }
    },
    {
      "cell_type": "markdown",
      "source": [
        "*기울여 쓰기*\n",
        "_기울여 쓰기_\n",
        "__두껍게 쓰기__\n",
        "**두껍게 쓰기**\n"
      ],
      "metadata": {
        "id": "1VtLxSeIDRTs"
      }
    },
    {
      "cell_type": "markdown",
      "source": [
        ">인용문 1\n",
        ">>인용문 2\n",
        ">>>인용문 3"
      ],
      "metadata": {
        "id": "WXsbCPwbDj_t"
      }
    },
    {
      "cell_type": "markdown",
      "source": [
        "\n",
        "* 들여쓰기 1\n",
        "  * 들여쓰기 2\n",
        "    * 들여쓰기 3\n",
        "\n",
        "1. 숫자1\n",
        "  2. 숫자2\n",
        "    3. 숫자3"
      ],
      "metadata": {
        "id": "b4jQrXRvDt4p"
      }
    },
    {
      "cell_type": "markdown",
      "source": [
        "\\*백슬래쉬로 특수문자 쓰기(별)\\*<br>\n",
        "\\#백슬래쉬로 특수문자 쓰기(해쉬테그)\\#<br>\n",
        "\\[백슬래쉬로 특수문자 쓰기(대괄호)\\]<br>"
      ],
      "metadata": {
        "id": "J7KVDe2iEwVc"
      }
    },
    {
      "cell_type": "markdown",
      "source": [
        " ![alt text](/test.png) (인라인 이미지 사용하기) <br>\n",
        "  ![alt text](image_URL) (링크 이미지 사용하기)<br>\n",
        "  <img width=\"OOOpx\" height=\"OOOpx\"></img> (이미지 크기 변경하기)\n",
        "\n"
      ],
      "metadata": {
        "id": "fCjGbpAop7Na"
      }
    },
    {
      "cell_type": "markdown",
      "source": [
        "인라인 링크: [링크](http://example.com \"링크 제목\")<br>\n",
        "url 링크: <example.com>, <example@example.com>; 꺽쇠 괄호 없어도 자동으로 링크를 사용"
      ],
      "metadata": {
        "id": "h9_i_awmE_4R"
      }
    },
    {
      "cell_type": "markdown",
      "source": [
        "[Google](http://www.google.com \"구글\")<br>\n",
        "[Naver](http://www.naver.com \"네이버\")<br>\n",
        "[Github](http://www.github.com \"깃허브\")<br>\n",
        "구글 www.google.com; 꺽쇠없음<br>\n",
        "네이버 <www.naver.com>; 꺽쇠있음<br>\n",
        "My mail <jinkyukim.dev@gmail.com>"
      ],
      "metadata": {
        "id": "BlXelsUYq4MT"
      }
    },
    {
      "cell_type": "markdown",
      "source": [
        "[보여지는 내용](#이동할 헤드(제목))\n",
        "괄호 안의 링크를 쓸 때는 띄어쓰기는 -로 연결, 영어는 모두 소문자로 작성<br>\n",
        "[1. Headers 헤더](#1-headers-헤더)<br>\n",
        "[2. Emphasis 강조](#2-emphasis-강조)<br>\n",
        "[3. Blockquotes 인용](#3-blockquotes-인용)<br>"
      ],
      "metadata": {
        "id": "mFiT0hKyGEg6"
      }
    },
    {
      "cell_type": "markdown",
      "source": [
        "```\n",
        "`를 이용한코드블록\n",
        "```\n",
        "~~~\n",
        "~를 이용한 코드블록\n",
        "~~~"
      ],
      "metadata": {
        "id": "Ab-xXCEXG0qI"
      }
    },
    {
      "cell_type": "markdown",
      "source": [
        "```javascript\n",
        "function test() {\n",
        " console.log(\"look ma’, no spaces\");\n",
        "}\n",
        "```"
      ],
      "metadata": {
        "id": "R5cpvNfeHQkd"
      }
    },
    {
      "cell_type": "markdown",
      "source": [
        "줄 앞에 - [x]를 써서 완료된 리스트 표시.\n",
        "줄 앞에 - [ ]를 써서 미완료된 리스트 표시.\n",
        "- [x] \n",
        "- [ ] \n",
        "- [x] \n",
        "- [x] "
      ],
      "metadata": {
        "id": "ahni-v80Hnjp"
      }
    },
    {
      "cell_type": "markdown",
      "source": [
        "---\n",
        "-이용하여 줄표기\n",
        "***\n",
        "*를 이용하여 줄표시"
      ],
      "metadata": {
        "id": "v13FuQX-IVP-"
      }
    },
    {
      "cell_type": "markdown",
      "source": [
        "마크다운을 이용해 이모티콘을 표현가능.<br>\n",
        "깃허브도 적용가능.<br>\n",
        "더 많은 리스트는 아래의 사이트로 방문.<br>\n",
        "www.emoji-cheat-sheet.com<br>\n",
        "사용법)<br>\n",
        "GitHub supports emoji!<br>\n",
        ":+1: :sparkles: :camel: :tada:<br>\n",
        ":rocket: :metal: :octocat:<br>"
      ],
      "metadata": {
        "id": "67cTL_tHIqB-"
      }
    },
    {
      "cell_type": "markdown",
      "source": [
        "GitHub supports emoji!\n",
        ":+1: :sparkles: :camel: :tada:\n",
        ":rocket: :metal: :octocat:"
      ],
      "metadata": {
        "id": "8eLn8ZY_I7N2"
      }
    },
    {
      "cell_type": "markdown",
      "source": [
        "헤더와 셀을 구분할 때 3개 이상의 -(hyphen/dash) 기호가 필요합니다.<br>\n",
        "헤더 셀을 구분하면서 :(Colons) 기호로 셀(열/칸) 안에 내용을 정렬할 수 있습니다.<br>\n",
        "가장 좌측과 가장 우측에 있는 |(vertical bar) 기호는 생략 가능합니다.<br>"
      ],
      "metadata": {
        "id": "ybm0TCC-tapx"
      }
    },
    {
      "cell_type": "markdown",
      "source": [
        "\n",
        "헤더1|헤더2|헤더3\n",
        ":---|:---:|---:\n",
        "Left|Center|Right\n",
        "1|2|3\n",
        "4|5|6\n",
        "7|8|9"
      ],
      "metadata": {
        "id": "CanpHOqWJL7T"
      }
    },
    {
      "cell_type": "markdown",
      "source": [
        "\\<br>를 사용하여 줄바꿈<br>\n",
        "\n",
        "1<br>\n",
        "2<br>\n",
        "3<br>"
      ],
      "metadata": {
        "id": "L7iIHwVuJun9"
      }
    }
  ]
}